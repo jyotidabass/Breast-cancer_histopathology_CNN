{
  "nbformat": 4,
  "nbformat_minor": 0,
  "metadata": {
    "colab": {
      "name": "Ensemble_models_colon.ipynb",
      "provenance": [],
      "collapsed_sections": []
    },
    "kernelspec": {
      "name": "python3",
      "display_name": "Python 3"
    },
    "accelerator": "GPU"
  },
  "cells": [
    {
      "cell_type": "code",
      "metadata": {
        "id": "1fmFYCFbWmBB",
        "colab": {
          "base_uri": "https://localhost:8080/",
          "height": 35
        },
        "outputId": "e4c49714-7e8a-41b4-a6cf-7911c2d07ce6"
      },
      "source": [
        "\n",
        "# Commented out IPython magic to ensure Python compatibility.\n",
        "# %%capture\n",
        "# !pip install efficientnet\n",
        "#from ensemble_combination_performance.py import *\n",
        "#from ensemble_combination_performance import perfomance_model,ensemble\n",
        "import numpy as np # linear algebra\n",
        "import pandas as pd # data processing, CSV file I/O (e.g. pd.read_csv)\n",
        "import matplotlib.pyplot as plt\n",
        "from tensorflow.keras.models import Sequential,Model\n",
        "from tensorflow.keras.layers import Activation, Dropout, Flatten, Dense, Conv2D, MaxPool2D, BatchNormalization,Input,MaxPooling2D,GlobalMaxPooling2D,concatenate\n",
        "from tensorflow.keras.layers import GlobalAveragePooling2D\n",
        "from tensorflow.keras.applications.resnet50 import ResNet50\n",
        "#from tensorflow.keras.applications import EfficientNetB0\n",
        "from tensorflow.keras.applications import MobileNetV2\n",
        "from tensorflow.keras.callbacks import ModelCheckpoint,ReduceLROnPlateau\n",
        "from tensorflow.keras.optimizers import Adam\n",
        "import tensorflow.keras.backend as K\n",
        "import tensorflow as tf\n",
        "#import tensorflow_addons as tfa\n",
        "\n",
        "#from tensorflow.keras.layers import Input, Lambda, Dense, Flatten\n",
        "from tensorflow.keras.layers import *\n",
        "#from tensorflow.keras.models import Model\n",
        "from tensorflow.keras.applications.inception_v3 import InceptionV3\n",
        "from tensorflow.keras.applications.xception import Xception\n",
        "from tensorflow.keras.applications.vgg16 import VGG16\n",
        "#from tensorflow.keras.applications import InceptionV3\n",
        "from tensorflow.keras.applications.inception_v3 import preprocess_input\n",
        "from tensorflow.keras.preprocessing import image\n",
        "from tensorflow.keras.preprocessing.image import ImageDataGenerator,load_img\n",
        "\n",
        "#import matplotlib.pyplot as plt\n",
        "from tensorflow.compat.v1 import ConfigProto\n",
        "from tensorflow.compat.v1 import InteractiveSession\n",
        "from tensorflow.keras.applications.densenet import DenseNet121\n",
        "\n",
        "config = ConfigProto()\n",
        "config.gpu_options.per_process_gpu_memory_fraction = 0.5\n",
        "config.gpu_options.allow_growth = True\n",
        "session = InteractiveSession(config=config)\n",
        "\"\"\"\n",
        "from tensorflow.keras.applications.densenet import DenseNet121\n",
        "import os\n",
        "os.environ['TF_CPP_MIN_LOG_LEVEL'] = '3' \"\"\""
      ],
      "execution_count": null,
      "outputs": [
        {
          "output_type": "execute_result",
          "data": {
            "application/vnd.google.colaboratory.intrinsic+json": {
              "type": "string"
            },
            "text/plain": [
              "\"\\nfrom tensorflow.keras.applications.densenet import DenseNet121\\nimport os\\nos.environ['TF_CPP_MIN_LOG_LEVEL'] = '3' \""
            ]
          },
          "metadata": {},
          "execution_count": 1
        }
      ]
    },
    {
      "cell_type": "code",
      "metadata": {
        "id": "YPg0GJxdVhld"
      },
      "source": [
        "!nvidia-smi"
      ],
      "execution_count": null,
      "outputs": []
    },
    {
      "cell_type": "code",
      "metadata": {
        "id": "zL96lFaTcqLV"
      },
      "source": [
        "from tensorflow.keras.applications.densenet import DenseNet121\n"
      ],
      "execution_count": null,
      "outputs": []
    },
    {
      "cell_type": "code",
      "metadata": {
        "id": "01WbT5M6JneY"
      },
      "source": [
        "%%capture\n",
        "!pip install efficientnet\n",
        "import efficientnet.tfkeras as efn\n",
        "#model =efn.EfficientNetB3(weights ='imagenet', include_top=False, input_shape = (img_shape,img_shape,3))"
      ],
      "execution_count": null,
      "outputs": []
    },
    {
      "cell_type": "code",
      "metadata": {
        "id": "p8hOxHwu7Jij"
      },
      "source": [
        "# make a folder \n",
        "!mkdir -p saved_model_new\n",
        "!mkdir -p saved_model_h5_new\n",
        "#https://colab.research.google.com/github/tensorflow/docs/blob/master/site/en/tutorials/keras/save_and_load.ipynb#scrollTo=sI1YvCDFzpl3\n"
      ],
      "execution_count": null,
      "outputs": []
    },
    {
      "cell_type": "code",
      "metadata": {
        "colab": {
          "base_uri": "https://localhost:8080/"
        },
        "id": "VpBnBzM-863S",
        "outputId": "2713730a-61f3-47bd-ce9b-879908f044a8"
      },
      "source": [
        "from google.colab import drive\n",
        "drive.mount('/content/drive')"
      ],
      "execution_count": null,
      "outputs": [
        {
          "output_type": "stream",
          "name": "stdout",
          "text": [
            "Drive already mounted at /content/drive; to attempt to forcibly remount, call drive.mount(\"/content/drive\", force_remount=True).\n"
          ]
        }
      ]
    },
    {
      "cell_type": "code",
      "metadata": {
        "id": "yWrwyNUYU_GR",
        "colab": {
          "base_uri": "https://localhost:8080/"
        },
        "outputId": "38599c6c-3b15-49f5-dfcc-877eb844a170"
      },
      "source": [
        "# -*- coding: utf-8 -*-\n",
        "# plot_multiclass_roc() and \n",
        "# def build_model(own_scratch_model):\n",
        "\"\"\"efficientnet_colon.ipynb\n",
        "\n",
        "Automatically generated by Colaboratory.\n",
        "\n",
        "Original file is located at\n",
        "    https://colab.research.google.com/drive/1MuB9BtkX9OzcVOAaE-KFR8rHOvIR2Vmc\n",
        "\n",
        "efficientnet model with colon dataset\n",
        "\"\"\"\n",
        "%time\n",
        "\n",
        "#%%\n",
        "\"\"\"to plot the roc curve for multiclass classification problem\"\"\"\n",
        "from sklearn.metrics import roc_auc_score,roc_curve,auc\n",
        "import seaborn as sns\n",
        "def plot_multiclass_roc(y_pred, y_test, n_classes,class_label,fig_title, figsize=(17, 6)):\n",
        "    \n",
        "    # structures\n",
        "    fpr = dict()\n",
        "    tpr = dict()\n",
        "    roc_auc = dict()\n",
        "\n",
        "    # calculate dummies once\n",
        "    for i in range(n_classes):\n",
        "        fpr[i], tpr[i], _ = roc_curve(y_test.iloc[:, i], y_pred[:, i])\n",
        "        #fpr[i], tpr[i], _ = roc_curve(y_test[:, i], y_pred[:, i])\n",
        "        roc_auc[i] = auc(fpr[i], tpr[i])\n",
        "\n",
        "    # roc for each class\n",
        "    fig, ax = plt.subplots()\n",
        "    ax.plot([0, 1], [0, 1], 'k--')\n",
        "    ax.set_xlim([0.0, 1.0])\n",
        "    ax.set_ylim([0.0, 1.05])\n",
        "    ax.set_xlabel('False Positive Rate',fontsize=12)\n",
        "    ax.set_ylabel('True Positive Rate',fontsize=12)\n",
        "    ax.set_title(fig_title)\n",
        "    #ax.set_title('Receiver operating characteristic example')\n",
        "    for i,j in enumerate(class_label):\n",
        "        print(np.round(roc_auc[i],2),j)\n",
        "        ax.plot(fpr[i], tpr[i], label='ROC curve for {}'.format(j))\n",
        "    ax.legend(loc=\"best\")\n",
        "    ax.grid(alpha=.4)\n",
        "    sns.despine()\n",
        "    plt.savefig(fig_title+'.png',format='png' ,dpi=300)\n",
        "    plt.show()\n",
        "#%%\n",
        "\n",
        "\"\"\"## data augmentation \n",
        "this line is good if the data is not divided so it can make split itinto train and testing 80% 20%\n",
        "\"\"\"\n",
        "\n",
        "'''\n",
        "from keras_preprocessing.image import ImageDataGenerator\n",
        "\n",
        "data_gen= ImageDataGenerator(\n",
        "    horizontal_flip=True,\n",
        "    vertical_flip=True,\n",
        "    rotation_range=360,\n",
        "    width_shift_range=0.1,\n",
        "    height_shift_range=0.1,\n",
        "    zoom_range=.1,\n",
        "    rescale=1/255,\n",
        "    fill_mode='nearest',\n",
        "    shear_range=0.1,\n",
        "    brightness_range=[0.5, 1.5],\n",
        "    validation_split=0.3)\n",
        "    '''\n",
        "#%%\n",
        "# Use the Image Data Generator to import the images from the dataset\n",
        "from tensorflow.keras.preprocessing.image import ImageDataGenerator\n",
        "\n",
        "train_datagen = ImageDataGenerator(rescale = 1./255,\n",
        "                                   shear_range = 0.2,\n",
        "                                   zoom_range = 0.2,\n",
        "                                   horizontal_flip = True)\n",
        "\n",
        "test_datagen = ImageDataGenerator(rescale = 1./255)\n",
        "#%%\n",
        "\"\"\"load data\n",
        "load data from directory in generator structure, infact data is loaded while training\n",
        "\"\"\"\n",
        "\n",
        "img_shape=224\n",
        "batch_size=16\n",
        "n_epochs=10\n",
        "\n",
        "img_shape\n",
        "\n",
        " #Make sure you provide the same target size as initialied for the image size\n",
        "train_generator = train_datagen.flow_from_directory('/content/drive/My Drive/Histo_Image_357_train_test/train',\n",
        "                                                 target_size = (224, 224),\n",
        "                                                 batch_size = batch_size,   #100\n",
        "                                                 class_mode = 'categorical')\n",
        "\n",
        "val_suffle=False\n",
        "val_generator = test_datagen.flow_from_directory('/content/drive/My Drive/Histo_Image_357_train_test/val',\n",
        "                                            target_size = (224, 224),\n",
        "                                            batch_size = batch_size, # 100\n",
        "                                            class_mode = 'categorical',shuffle=val_suffle)\n",
        "#shape the training dataset. \n",
        "#train_generator.next()[0].shape,train_generator.next()[1].shape\n",
        "\n",
        "#val_generator.next()[0].shape,val_generator.next()[1].shape\n",
        "\n",
        "\n",
        "#%%\n",
        "\n",
        "# useful for getting number of output classes\n",
        "from glob import glob\n",
        "folders = glob('/content/drive/My Drive/Histo_Image_357_train_test/train/*')\n",
        "\n",
        "'''\n",
        "from tensorflow.compat.v1 import ConfigProto\n",
        "from tensorflow.compat.v1 import InteractiveSession\n",
        "\n",
        "config = ConfigProto()\n",
        "config.gpu_options.per_process_gpu_memory_fraction = 0.5\n",
        "config.gpu_options.allow_growth = True\n",
        "session = InteractiveSession(config=config)\n",
        "# import the libraries as shown below\n",
        "\n",
        "'''\n",
        "\n",
        "\n",
        "\"\"\"Model trained on villaged dataset\n",
        "DenseNet121\n",
        "\"\"\"\n",
        "'''\n",
        "def named_model(name):\n",
        "    # include_top=False removes the fully connected layer at the end/top of the network\n",
        "    # This allows us to get the feature vector as opposed to a classification\n",
        "    if name == 'ResNet50':\n",
        "        return applications.resnet50.ResNet50(weights='imagenet', include_top=False, input_shape = (img_shape,img_shape,3))\n",
        "    \n",
        "    elif name == 'Xception':\n",
        "        return applications.xception.Xception(weights='imagenet', include_top=False, input_shape = (img_shape,img_shape,3))\n",
        "\n",
        "    elif name == 'VGG16':\n",
        "        return applications.vgg16.VGG16(weights='imagenet', include_top=False, input_shape = (img_shape,img_shape,3))\n",
        "\n",
        "    elif name == 'VGG19':\n",
        "        return applications.vgg19.VGG19(weights='imagenet', include_top=False, input_shape = (img_shape,img_shape,3))\n",
        "\n",
        "    elif name == 'InceptionV3':\n",
        "        return applications.inception_v3.InceptionV3(weights='imagenet', include_top=False, input_shape = (img_shape,img_shape,3))\n",
        "\n",
        "    elif name == 'MobileNet':\n",
        "        return applications.mobilenet.MobileNet(weights='imagenet', include_top=False, input_shape = (img_shape,img_shape,3))\n",
        "    '''\n",
        "#%%\n",
        "def custom_loss(y_true, y_pred):\n",
        "    return tf.keras.losses.categorical_crossentropy(y_true, y_pred, label_smoothing=0.1)\n",
        "\n",
        "def build_model(own_scratch_model):\n",
        "    # don't train existing weights\n",
        "    '''#It is important to freeze the convolutional base before you compile and\n",
        "     train the model. Freezing (by setting layer.trainable = False) \n",
        "     prevents the weights in a given layer from being updated during training.\n",
        "     MobileNet V2 has many layers, so setting the entire model's\n",
        "      trainable flag to False will freeze all of them.'''\n",
        "\n",
        "    for layer in own_scratch_model.layers:\n",
        "        layer.trainable = False;\n",
        "    \n",
        "    #========\n",
        "    x = own_scratch_model.output\n",
        "    \"\"\" To generate predictions from the block of features, average over the \n",
        "    spatial 5x5 spatial locations, using a tf.keras.layers.GlobalAveragePooling2D \n",
        "    layer to convert the features to a single 1280-element vector per image.\n",
        "    \"\"\"\n",
        "\n",
        "    x = GlobalAveragePooling2D()(x)\n",
        "    ##x = Dropout(0.3)(x)\n",
        "    ''' Apply a tf.keras.layers.Dense layer to convert these features into a single \n",
        "    prediction per image. You don't need an activation function here because \n",
        "    this prediction will be treated as a logit, or a raw prediction value. \n",
        "    \n",
        "    Positive numbers predict class 1, negative numbers predict class 0.\n",
        "    '''\n",
        "    x = Dense(512,name='dense1', activation=\"relu\")(x)\n",
        "    x = Dropout(0.3)(x)\n",
        "    x = Dense(64,name='dense2', activation=\"relu\")(x)\n",
        "    #=========\n",
        "    '''\n",
        "    x = own_scratch_model.output\n",
        "    x = GlobalAveragePooling2D()(x)\n",
        "    x = Dropout(0.3)(x)\n",
        "    x = Dense(128,name='dense1', activation=\"relu\")(x)\n",
        "    x = Dropout(0.3)(x)\n",
        "    x = Dense(64,name='dense2', activation=\"relu\")(x)\n",
        "    #x = Dropout(0.3)(x)\n",
        "    '''\n",
        "    predictions = Dense(len(folders),name='output', activation=\"softmax\")(x)\n",
        "    \n",
        "    base_model = Model(inputs=own_scratch_model.input, outputs=predictions)\n",
        "    #sgd = SGD(lr=0.1, decay=1e-6, momentum=0.9, nesterov=True)\n",
        "    #optimizer='adam'\n",
        "    #loss= custom_loss\n",
        "    #loss= 'categorical_crossentropy'\n",
        "    base_model.compile(optimizer='sgd', loss= custom_loss, metrics=['accuracy'])\n",
        "    \n",
        "    return base_model\n"
      ],
      "execution_count": null,
      "outputs": [
        {
          "output_type": "stream",
          "name": "stdout",
          "text": [
            "CPU times: user 2 µs, sys: 1e+03 ns, total: 3 µs\n",
            "Wall time: 5.72 µs\n",
            "Found 284 images belonging to 4 classes.\n",
            "Found 73 images belonging to 4 classes.\n"
          ]
        }
      ]
    },
    {
      "cell_type": "code",
      "metadata": {
        "id": "0WD2bJLUX_9R"
      },
      "source": [
        "from sklearn import metrics\n",
        "from scipy.stats import mode\n",
        "from sklearn.metrics import *\n",
        "def compute_specificity(y_test, y_pred_class):\n",
        "    confusion = metrics.confusion_matrix(y_test, y_pred_class)\n",
        "    #print(confusion)\n",
        "    #[row, column]\n",
        "    #TP = confusion[1, 1]\n",
        "    TN = confusion[0, 0]\n",
        "    FP = confusion[0, 1]\n",
        "    #FN = confusion[1, 0]\n",
        "    specificity1 = TN / (TN + FP)\n",
        "    return specificity1\n",
        "\n",
        "''' compute prediction from set of probabilities '''\n",
        "\n",
        "def prediction_class(proba):\n",
        "    #yhats=np.array(proba)\n",
        "        # sum across ensemble members\n",
        "    #summed = np.sum(yhats, axis=0)\n",
        "    predict_out=np.argmax(proba,axis=1)\n",
        "    return predict_out\n",
        "''' compute pefomance acc, sens, specifity'''\n",
        "\n",
        "\n",
        "def perfomance_model(y_true,y_model):\n",
        "    \n",
        "    acc=accuracy_score(y_true,y_model)\n",
        "    sensitivity_recal=recall_score(y_true,y_model,average='macro')\n",
        "    specificity= compute_specificity(y_true,y_model)\n",
        "    \n",
        "    return [acc,sensitivity_recal,specificity]\n",
        "\n",
        "        \n",
        "''' load the probality results for each model '''\n",
        "def ensemble(dens_v5,mobile_v5,inception_V5,vgg16_V6,y_test):\n",
        "   \n",
        "    proba_ensemble= list()\n",
        "    results, names = list(), list()\n",
        "    ''' append the models results in one matrix'''\n",
        "    \n",
        "    proba_ensemble.append(dens_v5)\n",
        "    proba_ensemble.append(mobile_v5)\n",
        "    proba_ensemble.append(inception_V5)\n",
        "    proba_ensemble.append(vgg16_V6)\n",
        "    \n",
        "    ''' prediction value for each model'''\n",
        "    \n",
        "    results.append(prediction_class(dens_v5))\n",
        "    results.append(prediction_class(mobile_v5))\n",
        "    results.append(prediction_class(inception_V5))\n",
        "    results.append(prediction_class(vgg16_V6))\n",
        "\n",
        "    ''' sum product ensemble results.'''\n",
        "    \n",
        "    #names.append(name)\n",
        "    summed_all=np.sum(proba_ensemble,axis=0)\n",
        "    #summed_all2=np.sum(summed_all,axis=0)# to reduce the dimensionality from 3 to 2\n",
        "    ensemble_prediction_sum=np.argmax(summed_all, axis=1)\n",
        "        # ensemble with product\n",
        "    product_all=np.product(proba_ensemble,axis=0)\n",
        "    #product_all=np.sum(product_all,axis=0)#\n",
        "    ensemble_prediction_product=np.argmax(product_all,axis=1)# to return max index value\n",
        "    \n",
        "    \n",
        "    # ensemble majority voting\n",
        "    rr=np.array(results)\n",
        "    r77=mode(rr, axis=0)\n",
        "    ensemble_prediction_majority=r77[0].T\n",
        "    return {'ensemble_prediction_sum':ensemble_prediction_sum, \n",
        "            'ensemble_prediction_product':ensemble_prediction_product,\n",
        "            'ensemble_prediction_majority':ensemble_prediction_majority }\n"
      ],
      "execution_count": null,
      "outputs": []
    },
    {
      "cell_type": "code",
      "metadata": {
        "id": "ujqEfPz9VFJk"
      },
      "source": [
        "\n",
        "#%%\n",
        "run_DenseNet121_acc=list()\n",
        "run_MobileNetV2_acc=list()\n",
        "run_InceptionV3_acc=list()\n",
        "run_VGG16_acc=list()\n",
        "\n",
        "run_majority_acc=list()\n",
        "run_sum_acc=list()\n",
        "run_prod_acc=list()\n",
        "\n",
        "''' ========='''\n",
        "run_DenseNet121_sensitivity=list()\n",
        "run_MobileNetV2_sensitivity=list()\n",
        "run_InceptionV3_sensitivity=list()\n",
        "run_VGG16_sensitivity=list()\n",
        "\n",
        "run_majority_sensitivity=list()\n",
        "run_sum_sensitivity=list()\n",
        "run_prod_sensitivity=list()\n",
        "\n",
        "\n",
        "''' ========='''\n",
        "run_DenseNet121_specificity=list()\n",
        "run_MobileNetV2_specificity=list()\n",
        "run_InceptionV3_specificity=list()\n",
        "run_VGG16_specificity=list()\n",
        "\n",
        "run_majority_specificity=list()\n",
        "run_sum_specificity=list()\n",
        "run_prod_specificity=list()\n",
        "#%%\n",
        "\n",
        "''' run output label for each run with each base and ensemble'''\n",
        "run_DenseNet121_predction=list()\n",
        "run_MobileNetV2_predction=list()\n",
        "run_InceptionV3_predction=list()\n",
        "run_VGG16_predction=list()\n",
        "\n",
        "run_majority_predction=list()\n",
        "run_sum_predction=list()\n",
        "run_prod_predction=list()"
      ],
      "execution_count": null,
      "outputs": []
    },
    {
      "cell_type": "code",
      "metadata": {
        "id": "_l5WCx0pwO5y",
        "colab": {
          "base_uri": "https://localhost:8080/",
          "height": 35
        },
        "outputId": "3c008422-963c-4b51-f455-98771bcc08ce"
      },
      "source": [
        "tf.test.gpu_device_name() \n",
        "\n",
        "# if /device:GPU:0\n",
        "#then gpu is work well '''"
      ],
      "execution_count": null,
      "outputs": [
        {
          "output_type": "execute_result",
          "data": {
            "application/vnd.google.colaboratory.intrinsic+json": {
              "type": "string"
            },
            "text/plain": [
              "'/device:GPU:0'"
            ]
          },
          "metadata": {},
          "execution_count": 9
        }
      ]
    },
    {
      "cell_type": "code",
      "metadata": {
        "id": "SmYuyPuVWn7z",
        "colab": {
          "base_uri": "https://localhost:8080/"
        },
        "outputId": "20761aa9-4085-4f32-f6b0-464a084bca25"
      },
      "source": [
        "\n",
        "\n",
        "''' for run in range(10)'''\n",
        "#import pdb; pdb.set_trace() \n",
        "# If you want to execute the next line you can try n (next) instead of s (step) c continoue .\n",
        "run=1\n",
        "img_shape=224\n",
        "while run<=1:\n",
        "        \n",
        "        ''' ==============11111111===================='''\n",
        "        own_scratch_model = DenseNet121(weights = 'imagenet', include_top=False, input_shape = (img_shape,img_shape,3))\n",
        "     \n",
        "      #DenseNet121 <--> efn.EfficientNetB3\n",
        "        base_model_DenseNet121= build_model(own_scratch_model)\n",
        "        \n",
        "        \n",
        "        # Commented out IPython magic to ensure Python compatibility.\n",
        "        #%%time\n",
        "      #  results_DenseNet121 = base_model_DenseNet121.fit(train_generator,epochs=10,\n",
        "      #                                steps_per_epoch=len(train_generator),\n",
        "      #                                 validation_data=val_generator,\n",
        "      #                                 validation_steps=len(val_generator),\n",
        "      #                                 callbacks=[ReduceLROnPlateau(monitor='val_loss', factor=0.3,patience=2, min_lr=0.000001)])\n",
        "        #model =efn.EfficientNetB3(weights ='imagenet', include_top=False, input_shape = (img_shape,img_shape,3))\n",
        "        print('Densenet # run ', run)\n",
        "        #pdb.set_trace() \n",
        "        print('==================================================================')\n",
        "        results_DenseNet121 = base_model_DenseNet121.fit(train_generator,epochs=10,verbose=0,\n",
        "                              steps_per_epoch=len(train_generator),\n",
        "                              validation_data=val_generator,\n",
        "                              validation_steps=len(val_generator),\n",
        "                              callbacks=[ReduceLROnPlateau(monitor='val_loss', factor=0.3,patience=2, min_lr=0.000001)])\n",
        "        #pdb.set_trace() \n",
        "        val_generator.reset()\n",
        "        y_pred_DenseNet121=base_model_DenseNet121.predict(val_generator,steps=len(val_generator),verbose=1)\n",
        "        y_pred_DenseNet121_class=np.argmax(y_pred_DenseNet121, axis=1)\n",
        "        base_model_DenseNet121.save('saved_model_new/base_model_DenseNet121'+str(run)) \n",
        "        \n",
        "        #del base_model_DenseNet121, results_DenseNet121\n",
        "        #np.save('results_probability_MobileNetV2_v5_colon_v5',np.array(y_pred_DenseNet121))\n",
        "       \n",
        "        base_model_DenseNet121.save('saved_model_h5_new/base_model_DenseNet121'+str(run)+'.h5')\n",
        "        # to load the model\n",
        "        # # Recreate the exact same model, including its weights and the optimizer\n",
        "        #new_model = tf.keras.models.load_model('/content/base_model_vgg16_histo_colon_v2.h5',compile=False)\n",
        "        \n",
        "        # ''' =====================2222==============='''\n",
        "        #del own_scratch_model\n",
        "        \n",
        "        own_scratch_model =MobileNetV2(weights = 'imagenet', include_top=False, input_shape = (img_shape,img_shape,3))\n",
        "        base_model_MobileNetV2= build_model(own_scratch_model)\n",
        "        \n",
        "        \n",
        "        # Commented out IPython magic to ensure Python compatibility.\n",
        "        #%%time\n",
        "        '''  results_MobileNetV2 = base_model_MobileNetV2.fit(train_generator,epochs=10,\n",
        "                                       steps_per_epoch=len(train_generator),\n",
        "                                       validation_data=val_generator,\n",
        "                                       validation_steps=len(val_generator),\n",
        "                                       callbacks=[ReduceLROnPlateau(monitor='val_loss', factor=0.3,patience=2, min_lr=0.001)])\n",
        "        ''' \n",
        "        print('Mobilenet # run ', run)\n",
        "        print('==================================================================')\n",
        "        results_MobileNetV2 = base_model_MobileNetV2.fit(train_generator,epochs=10,verbose=0,\n",
        "                              steps_per_epoch=len(train_generator),\n",
        "                              validation_data=val_generator,\n",
        "                              validation_steps=len(val_generator),\n",
        "                              callbacks=[ReduceLROnPlateau(monitor='val_loss', factor=0.3,patience=2, min_lr=0.000001)])\n",
        "        \n",
        "        \n",
        "        val_generator.reset()\n",
        "        y_pred_MobileNetV2=base_model_MobileNetV2.predict(val_generator,steps=len(val_generator),verbose=1)\n",
        "        y_pred_MobileNetV2_class=np.argmax(y_pred_MobileNetV2, axis=1)\n",
        "        #np.save('results_probability_MobileNetV2_v5_colon_v5',np.array(y_pred_MobileNetV2))\n",
        "        base_model_MobileNetV2.save('saved_model/base_model_MobileNetV2'+str(run)) \n",
        "        base_model_MobileNetV2.save('saved_model_h5/base_model_MobileNetV2'+str(run)+'.h5')\n",
        "        #del base_model_MobileNetV2,results_MobileNetV2\n",
        "        '''====================33333==========='''\n",
        "         \n",
        "        #del own_scratch_model\n",
        "        \n",
        "        own_scratch_model =Xception(weights = 'imagenet', include_top=False, input_shape = (img_shape,img_shape,3))\n",
        "        base_model_InceptionV3= build_model(own_scratch_model)\n",
        "        \n",
        "        \n",
        "        # Commented out IPython magic to ensure Python compatibility.\n",
        "        #%%time\n",
        "        print('Inception # run ', run)\n",
        "        print('==================================================================')\n",
        "        results_InceptionV3 = base_model_InceptionV3.fit(train_generator,epochs=10,\n",
        "                              steps_per_epoch=len(train_generator),\n",
        "                              validation_data=val_generator,\n",
        "                              validation_steps=len(val_generator),\n",
        "                              callbacks=[ReduceLROnPlateau(monitor='val_loss', factor=0.3,patience=2, min_lr=0.000001)])\n",
        "        \n",
        "        '''results_InceptionV3 = base_model_InceptionV3.fit(train_generator,epochs=10,verbose=0,\n",
        "                              steps_per_epoch=train_generator.n/batch_size,\n",
        "                              validation_data=val_generator,\n",
        "                             validation_steps=val_generator.n/batch_size,\n",
        "                              #callbacks=[ReduceLROnPlateau(monitor='val_loss', factor=0.3,patience=2, min_lr=0.000001)]\n",
        "                              )\n",
        "        '''\n",
        "        val_generator.reset()\n",
        "        y_pred_InceptionV3=base_model_InceptionV3.predict(val_generator,steps=len(val_generator),verbose=1)\n",
        "        y_pred_InceptionV3_class=np.argmax(y_pred_InceptionV3, axis=1)\n",
        "        #np.save('results_probability_MobileNetV2_v5_colon_v5',np.array(y_pred_InceptionV3))\n",
        "        base_model_InceptionV3.save('saved_model/base_model_InceptionV3'+str(run))  \n",
        "        base_model_InceptionV3.save('saved_model_h5/base_model_InceptionV3'+str(run)+'.h5')\n",
        "        #del base_model_InceptionV3, results_InceptionV3\n",
        "         \n",
        "        \n",
        "        \n",
        "        ''' ============4444444==========================='''\n",
        "        \n",
        "        #del own_scratch_model\n",
        "        #include_top=False argument, you load a network that doesn't include the classification layers at the top, which is ideal for feature extraction.\n",
        "        own_scratch_model =VGG16(weights = 'imagenet', include_top=False, input_shape = (img_shape,img_shape,3))\n",
        "        base_model_VGG16= build_model(own_scratch_model)\n",
        "        \n",
        "        \n",
        "        # Commented out IPython magic to ensure Python compatibility.\n",
        "        #%%time\n",
        "        print('VG116 # run ', run)\n",
        "        print('==================================================================')\n",
        "        results_VGG16 = base_model_VGG16.fit(train_generator,epochs=10,\n",
        "                                       steps_per_epoch=len(train_generator),\n",
        "                                       validation_data=val_generator,\n",
        "                                       validation_steps=len(val_generator),\n",
        "                                       callbacks=[ReduceLROnPlateau(monitor='val_loss', factor=0.3,patience=2, min_lr=0.000001)])\n",
        "        \n",
        "       \n",
        "        \n",
        "        val_generator.reset()\n",
        "        y_pred_VGG16=base_model_VGG16.predict(val_generator,steps=len(val_generator),verbose=1)\n",
        "        y_pred_VGG16_class=np.argmax(y_pred_VGG16, axis=1)\n",
        "        #np.save('results_probability_MobileNetV2_v5_colon_v5',np.array(y_pred_VGG16))\n",
        "        base_model_VGG16.save('saved_model/base_model_VGG16'+str(run)) \n",
        "        base_model_VGG16.save('saved_model_h5/base_model_VGG16'+str(run)+'.h5')\n",
        " \n",
        "        y_true=np.array(val_generator.classes)\n",
        "        #del base_model_VGG16, results_VGG16\n",
        "        \n",
        "        \n",
        "        \n",
        "        '''===================== ensemble=====================\n",
        "        '''\n",
        "        \n",
        "        result_ensembles=  ensemble(y_pred_DenseNet121,y_pred_MobileNetV2,y_pred_InceptionV3,y_pred_VGG16,y_true)\n",
        "        \n",
        "       \n",
        "        \n",
        "        ''' dens results'''\n",
        "        acc,sens,specif= perfomance_model(y_true,y_pred_DenseNet121_class)\n",
        "        \n",
        "        \n",
        "        run_DenseNet121_acc.append(acc)\n",
        "        run_DenseNet121_sensitivity.append(sens)\n",
        "        run_DenseNet121_specificity.append(specif)\n",
        "        \n",
        "        del acc,sens,specif\n",
        "        '''y_pred_MobileNetV2'''\n",
        "        \n",
        "        acc,sens,specif= perfomance_model(y_true,y_pred_MobileNetV2_class)\n",
        "        \n",
        "        run_MobileNetV2_acc.append(acc)\n",
        "        run_MobileNetV2_sensitivity.append(sens)\n",
        "        run_MobileNetV2_specificity.append(specif)\n",
        "        \n",
        "        '''InceptionV3 '''\n",
        "        \n",
        "        del acc,sens,specif\n",
        "        acc,sens,specif= perfomance_model(y_true,y_pred_InceptionV3_class)\n",
        "        \n",
        "        run_InceptionV3_acc.append(acc)\n",
        "        run_InceptionV3_sensitivity.append(sens)\n",
        "        run_InceptionV3_specificity.append(specif)\n",
        "        \n",
        "        \n",
        "        ''' vgg16'''\n",
        "        \n",
        "        del acc,sens,specif\n",
        "        acc,sens,specif= perfomance_model(y_true,y_pred_VGG16_class)\n",
        "        \n",
        "        \n",
        "        run_VGG16_acc.append(acc)\n",
        "        run_VGG16_sensitivity.append(sens)\n",
        "        run_VGG16_specificity.append(specif)\n",
        "        \n",
        "        \n",
        "        ''' ====================================='''\n",
        "        ''' majority voting'''\n",
        "        \n",
        "        del acc,sens,specif\n",
        "        acc,sens,specif= perfomance_model(y_true,result_ensembles[\"ensemble_prediction_majority\"])\n",
        "        \n",
        "        run_majority_acc.append(acc)\n",
        "        run_majority_sensitivity.append(sens)\n",
        "        run_majority_specificity.append(specif)\n",
        "        \n",
        "        ''' ensemble sum'''\n",
        "        del acc,sens,specif\n",
        "        \n",
        "        acc,sens,specif= perfomance_model(y_true,result_ensembles[\"ensemble_prediction_sum\"])\n",
        "        \n",
        "        run_sum_acc.append(acc)\n",
        "        run_sum_sensitivity.append(sens)\n",
        "        run_sum_specificity.append(specif)\n",
        "               \n",
        "        ''' ensemble product'''\n",
        "        del acc,sens,specif\n",
        "        \n",
        "        acc,sens,specif= perfomance_model(y_true,result_ensembles[\"ensemble_prediction_sum\"])\n",
        "        run_prod_acc.append(acc)\n",
        "        run_prod_sensitivity.append(sens)\n",
        "        run_prod_specificity.append(specif)\n",
        "        print(\"==================--------===========================\")\n",
        "        print(\"End of run number\", run)\n",
        "        run+=1\n",
        "        \n",
        "        \n"
      ],
      "execution_count": null,
      "outputs": [
        {
          "output_type": "stream",
          "name": "stdout",
          "text": [
            "Downloading data from https://storage.googleapis.com/tensorflow/keras-applications/densenet/densenet121_weights_tf_dim_ordering_tf_kernels_notop.h5\n",
            "29089792/29084464 [==============================] - 0s 0us/step\n",
            "29097984/29084464 [==============================] - 0s 0us/step\n",
            "Densenet # run  1\n",
            "==================================================================\n",
            "5/5 [==============================] - 3s 227ms/step\n",
            "INFO:tensorflow:Assets written to: saved_model_new/base_model_DenseNet1211/assets\n",
            "Downloading data from https://storage.googleapis.com/tensorflow/keras-applications/mobilenet_v2/mobilenet_v2_weights_tf_dim_ordering_tf_kernels_1.0_224_no_top.h5\n",
            "9412608/9406464 [==============================] - 0s 0us/step\n",
            "9420800/9406464 [==============================] - 0s 0us/step\n",
            "Mobilenet # run  1\n",
            "==================================================================\n",
            "5/5 [==============================] - 2s 220ms/step\n",
            "INFO:tensorflow:Assets written to: saved_model/base_model_MobileNetV21/assets\n"
          ]
        },
        {
          "output_type": "stream",
          "name": "stderr",
          "text": [
            "/usr/local/lib/python3.7/dist-packages/keras/utils/generic_utils.py:497: CustomMaskWarning: Custom mask layers require a config and must override get_config. When loading, the custom mask layer must be passed to the custom_objects argument.\n",
            "  category=CustomMaskWarning)\n"
          ]
        },
        {
          "output_type": "stream",
          "name": "stdout",
          "text": [
            "Downloading data from https://storage.googleapis.com/tensorflow/keras-applications/xception/xception_weights_tf_dim_ordering_tf_kernels_notop.h5\n",
            "83689472/83683744 [==============================] - 1s 0us/step\n",
            "83697664/83683744 [==============================] - 1s 0us/step\n",
            "Inception # run  1\n",
            "==================================================================\n",
            "Epoch 1/10\n",
            "18/18 [==============================] - 16s 633ms/step - loss: 1.3456 - accuracy: 0.4014 - val_loss: 1.2030 - val_accuracy: 0.5479\n",
            "Epoch 2/10\n",
            "18/18 [==============================] - 9s 512ms/step - loss: 1.1714 - accuracy: 0.5739 - val_loss: 1.0629 - val_accuracy: 0.6027\n",
            "Epoch 3/10\n",
            "18/18 [==============================] - 9s 516ms/step - loss: 1.0394 - accuracy: 0.6408 - val_loss: 0.9569 - val_accuracy: 0.7123\n",
            "Epoch 4/10\n",
            "18/18 [==============================] - 9s 507ms/step - loss: 0.9598 - accuracy: 0.7077 - val_loss: 0.8967 - val_accuracy: 0.6986\n",
            "Epoch 5/10\n",
            "18/18 [==============================] - 9s 505ms/step - loss: 0.9001 - accuracy: 0.7606 - val_loss: 0.7841 - val_accuracy: 0.8356\n",
            "Epoch 6/10\n",
            "18/18 [==============================] - 9s 506ms/step - loss: 0.8350 - accuracy: 0.7817 - val_loss: 0.7480 - val_accuracy: 0.8493\n",
            "Epoch 7/10\n",
            "18/18 [==============================] - 9s 503ms/step - loss: 0.8000 - accuracy: 0.7993 - val_loss: 0.7115 - val_accuracy: 0.8767\n",
            "Epoch 8/10\n",
            "18/18 [==============================] - 9s 504ms/step - loss: 0.7904 - accuracy: 0.7993 - val_loss: 0.6751 - val_accuracy: 0.9178\n",
            "Epoch 9/10\n",
            "18/18 [==============================] - 9s 504ms/step - loss: 0.7317 - accuracy: 0.8099 - val_loss: 0.6890 - val_accuracy: 0.8356\n",
            "Epoch 10/10\n",
            "18/18 [==============================] - 9s 506ms/step - loss: 0.7196 - accuracy: 0.8239 - val_loss: 0.6251 - val_accuracy: 0.9178\n",
            "5/5 [==============================] - 2s 215ms/step\n",
            "INFO:tensorflow:Assets written to: saved_model/base_model_InceptionV31/assets\n"
          ]
        },
        {
          "output_type": "stream",
          "name": "stderr",
          "text": [
            "/usr/local/lib/python3.7/dist-packages/keras/utils/generic_utils.py:497: CustomMaskWarning: Custom mask layers require a config and must override get_config. When loading, the custom mask layer must be passed to the custom_objects argument.\n",
            "  category=CustomMaskWarning)\n"
          ]
        },
        {
          "output_type": "stream",
          "name": "stdout",
          "text": [
            "Downloading data from https://storage.googleapis.com/tensorflow/keras-applications/vgg16/vgg16_weights_tf_dim_ordering_tf_kernels_notop.h5\n",
            "58892288/58889256 [==============================] - 1s 0us/step\n",
            "58900480/58889256 [==============================] - 1s 0us/step\n",
            "VG116 # run  1\n",
            "==================================================================\n",
            "Epoch 1/10\n",
            "18/18 [==============================] - 22s 925ms/step - loss: 1.3978 - accuracy: 0.2923 - val_loss: 1.3153 - val_accuracy: 0.3151\n",
            "Epoch 2/10\n",
            "18/18 [==============================] - 9s 505ms/step - loss: 1.3546 - accuracy: 0.3662 - val_loss: 1.2810 - val_accuracy: 0.4110\n",
            "Epoch 3/10\n",
            "18/18 [==============================] - 9s 486ms/step - loss: 1.3463 - accuracy: 0.3415 - val_loss: 1.2436 - val_accuracy: 0.4658\n",
            "Epoch 4/10\n",
            "18/18 [==============================] - 9s 498ms/step - loss: 1.3020 - accuracy: 0.3803 - val_loss: 1.2097 - val_accuracy: 0.5205\n",
            "Epoch 5/10\n",
            "18/18 [==============================] - 9s 505ms/step - loss: 1.2643 - accuracy: 0.4648 - val_loss: 1.1788 - val_accuracy: 0.5890\n",
            "Epoch 6/10\n",
            "18/18 [==============================] - 9s 507ms/step - loss: 1.2539 - accuracy: 0.4437 - val_loss: 1.1606 - val_accuracy: 0.5205\n",
            "Epoch 7/10\n",
            "18/18 [==============================] - 9s 496ms/step - loss: 1.2071 - accuracy: 0.5070 - val_loss: 1.1198 - val_accuracy: 0.6849\n",
            "Epoch 8/10\n",
            "18/18 [==============================] - 9s 487ms/step - loss: 1.2131 - accuracy: 0.5106 - val_loss: 1.1077 - val_accuracy: 0.5890\n",
            "Epoch 9/10\n",
            "18/18 [==============================] - 9s 504ms/step - loss: 1.1494 - accuracy: 0.5669 - val_loss: 1.0648 - val_accuracy: 0.7260\n",
            "Epoch 10/10\n",
            "18/18 [==============================] - 9s 499ms/step - loss: 1.1335 - accuracy: 0.6021 - val_loss: 1.0850 - val_accuracy: 0.5205\n",
            "5/5 [==============================] - 1s 215ms/step\n",
            "INFO:tensorflow:Assets written to: saved_model/base_model_VGG161/assets\n",
            "==================--------===========================\n",
            "End of run number 1\n"
          ]
        }
      ]
    },
    {
      "cell_type": "code",
      "metadata": {
        "id": "yG_ySbcuPYia"
      },
      "source": [
        "  #result_ensembles=  ensemble(y_pred_DenseNet121,y_pred_MobileNetV2,y_pred_InceptionV3,y_pred_VGG16,y_true)\n",
        "  #y_pred_DenseNet121\n",
        "  #y_pred_MobileNetV2\n",
        "  y_pred_VGG16"
      ],
      "execution_count": null,
      "outputs": []
    },
    {
      "cell_type": "code",
      "metadata": {
        "id": "OxXKXLOmG7ET"
      },
      "source": [
        "# in this code we attempt to draw roc curve for the ensemble. \n",
        "#ensemble(dens_v5,mobile_v5,inception_V5,vgg16_V6,y_test):\n",
        "\n",
        "proba_ensemble= list()\n",
        "results, names = list(), list()\n",
        "''' append the models results in one matrix'''\n",
        "\n",
        "proba_ensemble.append(y_pred_DenseNet121)\n",
        "proba_ensemble.append(y_pred_MobileNetV2)\n",
        "proba_ensemble.append(y_pred_InceptionV3)\n",
        "proba_ensemble.append(y_pred_VGG16)\n",
        "\n",
        "''' prediction value for each model'''\n",
        "\n",
        "results.append(prediction_class(y_pred_DenseNet121))\n",
        "results.append(prediction_class(y_pred_MobileNetV2))\n",
        "results.append(prediction_class(y_pred_InceptionV3))\n",
        "results.append(prediction_class(y_pred_VGG16))\n",
        "\n",
        "''' sum product ensemble results.'''\n",
        "\n",
        "#names.append(name)\n",
        "summed_all=np.sum(proba_ensemble,axis=0)\n",
        "#summed_all2=np.sum(summed_all,axis=0)# to reduce the dimensionality from 3 to 2\n",
        "ensemble_prediction_sum=np.argmax(summed_all, axis=1)\n",
        "    # ensemble with product\n",
        "product_all=np.product(proba_ensemble,axis=0)\n",
        "#product_all=np.sum(product_all,axis=0)#\n",
        "ensemble_prediction_product=np.argmax(product_all,axis=1)# to return max index value\n",
        "\n",
        "\n",
        "# ensemble majority voting\n",
        "rr=np.array(results)\n",
        "r77=mode(rr, axis=0)\n",
        "ensemble_prediction_majority=r77[0].T"
      ],
      "execution_count": null,
      "outputs": []
    },
    {
      "cell_type": "code",
      "metadata": {
        "id": "5htNzZmULNQI"
      },
      "source": [
        "# normalized ensemble results \n",
        "summed_all_nor=summed_all/4\n",
        "y_true.shape \n"
      ],
      "execution_count": null,
      "outputs": []
    },
    {
      "cell_type": "code",
      "metadata": {
        "colab": {
          "base_uri": "https://localhost:8080/"
        },
        "id": "Ak5h6vQ8auLR",
        "outputId": "a6609aaf-e2fb-4337-e04e-321a253d001f"
      },
      "source": [
        "sum(summed_all[1,:])"
      ],
      "execution_count": null,
      "outputs": [
        {
          "output_type": "execute_result",
          "data": {
            "text/plain": [
              "4.0000001937150955"
            ]
          },
          "metadata": {},
          "execution_count": 39
        }
      ]
    },
    {
      "cell_type": "code",
      "metadata": {
        "colab": {
          "base_uri": "https://localhost:8080/",
          "height": 366
        },
        "id": "7zc5g4TOYs6k",
        "outputId": "93b36f4e-fa59-429c-d8cb-bf36d790423a"
      },
      "source": [
        "plot_multiclass_roc( summed_all_nor, pd.get_dummies(y_true), n_classes=len(folders),class_label=class_label,fig_title='Ensemble sum Pretrained Model', figsize=(8, 6))"
      ],
      "execution_count": null,
      "outputs": [
        {
          "output_type": "stream",
          "name": "stdout",
          "text": [
            "1.0 G0\n",
            "1.0 G1\n",
            "0.99 G2\n",
            "1.0 G3\n"
          ]
        },
        {
          "output_type": "display_data",
          "data": {
            "image/png": "[encoded data removed]",
            "text/plain": [
              "<Figure size 432x288 with 1 Axes>"
            ]
          },
          "metadata": {
            "needs_background": "light"
          }
        }
      ]
    },
    {
      "cell_type": "code",
      "metadata": {
        "colab": {
          "base_uri": "https://localhost:8080/"
        },
        "id": "Jkv8uJ4NSEJH",
        "outputId": "2de55642-285b-4b5a-a175-79fe78c957bb"
      },
      "source": [
        "summed_all_nor[1,:]"
      ],
      "execution_count": null,
      "outputs": [
        {
          "output_type": "execute_result",
          "data": {
            "text/plain": [
              "array([0.84454197, 0.05185907, 0.06014182, 0.0434572 ], dtype=float32)"
            ]
          },
          "metadata": {},
          "execution_count": 28
        }
      ]
    },
    {
      "cell_type": "code",
      "metadata": {
        "colab": {
          "base_uri": "https://localhost:8080/"
        },
        "id": "aTuy5jH7SETD",
        "outputId": "c094114c-4454-4086-da04-124ff0430b56"
      },
      "source": [
        "summed_all[1,:]/4"
      ],
      "execution_count": null,
      "outputs": [
        {
          "output_type": "execute_result",
          "data": {
            "text/plain": [
              "array([0.84454197, 0.05185907, 0.06014182, 0.0434572 ], dtype=float32)"
            ]
          },
          "metadata": {},
          "execution_count": 29
        }
      ]
    },
    {
      "cell_type": "code",
      "metadata": {
        "id": "o7VE791iFtwC"
      },
      "source": [
        "#type(y_true)\n",
        "if val_suffle==True:\n",
        "  per = np.random.permutation(val_generator.n)\n",
        "  val_generator.index_array = per\n",
        "  y_true = val_generator.classes[per]\n",
        "else: \n",
        "  y_true = val_generator.classes"
      ],
      "execution_count": null,
      "outputs": []
    },
    {
      "cell_type": "code",
      "metadata": {
        "id": "vYBgcuqfXsag"
      },
      "source": [
        "#pd.get_dummies(m[:,0])\n",
        "y_pred_VGG16"
      ],
      "execution_count": null,
      "outputs": []
    },
    {
      "cell_type": "code",
      "metadata": {
        "id": "KYJs_daWPuNZ",
        "colab": {
          "base_uri": "https://localhost:8080/",
          "height": 366
        },
        "outputId": "56bb1733-a8b2-4062-89ec-30e05f8572cc"
      },
      "source": [
        "# to print roc curve for each base and for ensemble \n",
        "class_label=list(train_generator.class_indices.keys())\n",
        "y_pred_DenseNet121_class.shape\n",
        "y_pred_DenseNet121_class.ndim\n",
        "m=np.empty([73, 0], dtype=int)\n",
        "m=np.column_stack((m, y_pred_DenseNet121))\n",
        "plot_multiclass_roc( m[:,], pd.get_dummies(y_true), n_classes=len(folders),class_label=class_label,fig_title='VGG16 Pretrained Model', figsize=(8, 6))\n"
      ],
      "execution_count": null,
      "outputs": [
        {
          "output_type": "stream",
          "name": "stdout",
          "text": [
            "1.0 G0\n",
            "1.0 G1\n",
            "1.0 G2\n",
            "1.0 G3\n"
          ]
        },
        {
          "output_type": "display_data",
          "data": {
            "image/png": "[encoded data removed]",
            "text/plain": [
              "<Figure size 432x288 with 1 Axes>"
            ]
          },
          "metadata": {
            "needs_background": "light"
          }
        }
      ]
    },
    {
      "cell_type": "code",
      "metadata": {
        "colab": {
          "base_uri": "https://localhost:8080/"
        },
        "id": "2bpbW1Dstt-p",
        "outputId": "41bb4298-96f9-4436-a63d-38f9d06bfd8e"
      },
      "source": [
        "y_pred_DenseNet121.shape"
      ],
      "execution_count": null,
      "outputs": [
        {
          "output_type": "execute_result",
          "data": {
            "text/plain": [
              "(73, 4)"
            ]
          },
          "metadata": {},
          "execution_count": 15
        }
      ]
    },
    {
      "cell_type": "code",
      "metadata": {
        "id": "UM5Kq9nGSPuo"
      },
      "source": [
        "for i in range(n_classes):\n",
        "        y_test.iloc[:, i], y_pred[:, i])"
      ],
      "execution_count": null,
      "outputs": []
    },
    {
      "cell_type": "code",
      "metadata": {
        "id": "a0db8BYueOyy"
      },
      "source": [
        "type(plot_multiclass_roc)"
      ],
      "execution_count": null,
      "outputs": []
    },
    {
      "cell_type": "code",
      "metadata": {
        "id": "W-0UB8ILt8CX",
        "colab": {
          "base_uri": "https://localhost:8080/"
        },
        "outputId": "ff35481f-1b23-4e4a-fb90-cfb8c3b6f340"
      },
      "source": [
        "# indvidual results \n",
        "print([np.average(run_DenseNet121_acc),np.average(run_DenseNet121_sensitivity),np.average(run_DenseNet121_specificity)])\n",
        "print([np.average(run_MobileNetV2_acc),np.average(run_InceptionV3_sensitivity),np.average(run_MobileNetV2_specificity)])\n",
        "print([np.average(run_InceptionV3_acc),np.average(run_majority_sensitivity),np.average(run_InceptionV3_specificity)])\n",
        "print([np.average(run_VGG16_acc),np.average(run_VGG16_sensitivity),np.average(run_VGG16_specificity)])\n",
        "\n",
        "    "
      ],
      "execution_count": null,
      "outputs": [
        {
          "output_type": "stream",
          "name": "stdout",
          "text": [
            "[0.9726027397260274, 0.975, 1.0]\n",
            "[0.9452054794520548, 0.925, 1.0]\n",
            "[0.9178082191780822, 0.95, 1.0]\n",
            "[0.5205479452054794, 0.5423076923076924, 0.9090909090909091]\n"
          ]
        }
      ]
    },
    {
      "cell_type": "code",
      "metadata": {
        "id": "6fG8YQ9Nt0fm"
      },
      "source": [
        "# indvidual std. \n",
        "print([np.std(run_DenseNet121_acc),np.std(run_DenseNet121_sensitivity),np.std(run_DenseNet121_specificity)])\n",
        "print([np.std(run_MobileNetV2_acc),np.std(run_InceptionV3_sensitivity),np.std(run_MobileNetV2_specificity)])\n",
        "print([np.std(run_InceptionV3_acc),np.std(run_majority_sensitivity),np.std(run_InceptionV3_specificity)])\n",
        "print([np.std(run_VGG16_acc),np.std(run_VGG16_sensitivity),np.std(run_VGG16_specificity)])\n",
        "\n",
        "     "
      ],
      "execution_count": null,
      "outputs": []
    },
    {
      "cell_type": "code",
      "metadata": {
        "id": "4RL_rsEcDpE8"
      },
      "source": [
        "run_DenseNet121_acc\n",
        "#results_DenseNet121"
      ],
      "execution_count": null,
      "outputs": []
    },
    {
      "cell_type": "markdown",
      "metadata": {
        "id": "ZM_I3bgtefpU"
      },
      "source": [
        "# New Section"
      ]
    },
    {
      "cell_type": "code",
      "metadata": {
        "id": "IYml-Kj_TN6A"
      },
      "source": [
        "results_DenseNet121"
      ],
      "execution_count": null,
      "outputs": []
    },
    {
      "cell_type": "code",
      "metadata": {
        "id": "pD4r_-EEw1Zh"
      },
      "source": [
        "print([np.average(run_sum_acc),np.average(run_sum_sensitivity),np.average(run_sum_specificity)])\n",
        "print([np.average(run_prod_acc),np.average(run_prod_sensitivity),np.average(run_prod_specificity)])\n",
        "print([np.average(run_majority_acc),np.average(run_majority_sensitivity),np.average(run_majority_specificity)])"
      ],
      "execution_count": null,
      "outputs": []
    },
    {
      "cell_type": "code",
      "metadata": {
        "id": "n4DqgOHrdmBQ"
      },
      "source": [
        "[run_prod_acc,run_prod_sensitivity ,run_prod_specificity ]\n",
        "run_sum_acc"
      ],
      "execution_count": null,
      "outputs": []
    },
    {
      "cell_type": "code",
      "metadata": {
        "id": "qxoup7TirlNX"
      },
      "source": [
        "run_prod_sensitivity"
      ],
      "execution_count": null,
      "outputs": []
    },
    {
      "cell_type": "markdown",
      "metadata": {
        "id": "OZnftDVJeaXT"
      },
      "source": [
        "italicized text# New Section"
      ]
    },
    {
      "cell_type": "code",
      "metadata": {
        "id": "45Y3Ajxrie8Y"
      },
      "source": [
        "print([np.std(run_sum_acc),np.std(run_sum_sensitivity),np.std(run_sum_specificity)])\n",
        "print([np.std(run_prod_acc),np.std(run_prod_sensitivity),np.std(run_prod_specificity)])\n",
        "print([np.std(run_majority_acc),np.std(run_majority_sensitivity),np.std(run_majority_specificity)])"
      ],
      "execution_count": null,
      "outputs": []
    },
    {
      "cell_type": "code",
      "metadata": {
        "id": "2wdqYqdLwEog"
      },
      "source": [
        "     np.average(run_prod_acc)"
      ],
      "execution_count": null,
      "outputs": []
    },
    {
      "cell_type": "code",
      "metadata": {
        "id": "cIx0jNqMLq8a"
      },
      "source": [
        "#run_DenseNet121_acc\n",
        "run_InceptionV3_acc"
      ],
      "execution_count": null,
      "outputs": []
    },
    {
      "cell_type": "code",
      "metadata": {
        "id": "rmxIq3gNY5XV"
      },
      "source": [
        "import pickle\n",
        "\n",
        "a = 3; b = [11,223,435];\n",
        "pickle.dump([a,b], open(\"trial.p\", \"wb\"))\n",
        "\n",
        "c,d = pickle.load(open(\"trial.p\",\"rb\"))\n",
        "\n",
        "print(c,d) ## To verify"
      ],
      "execution_count": null,
      "outputs": []
    },
    {
      "cell_type": "code",
      "metadata": {
        "id": "qxEAJ0Kg_JuG"
      },
      "source": [
        "np.save('run_DenseNet121_acc',run_DenseNet121_acc)\n",
        "np.save('run_MobileNetV2_acc',run_MobileNetV2_acc)\n",
        "np.save('run_InceptionV3_acc',run_InceptionV3_acc)\n",
        "np.save('run_VGG16_acc',run_VGG16_acc)\n",
        "\n",
        "np.save('run_majority_acc',run_majority_acc)\n",
        "np.save('run_sum_acc',run_sum_acc)\n",
        "np.save('run_prod_acc',run_prod_acc)\n",
        "\n",
        "''' ========='''\n",
        "np.save('run_DenseNet121_sensitivity',run_DenseNet121_sensitivity)\n",
        "np.save('run_MobileNetV2_sensitivity',run_MobileNetV2_sensitivity)\n",
        "np.save('run_InceptionV3_sensitivity',run_InceptionV3_sensitivity)\n",
        "np.save('run_VGG16_sensitivity',run_VGG16_sensitivity)\n",
        "\n",
        "np.save('run_majority_sensitivity',run_majority_sensitivity)\n",
        "np.save('run_sum_sensitivity',run_sum_sensitivity)\n",
        "np.save('run_prod_sensitivity',run_prod_sensitivity)\n",
        "\n",
        "\n",
        "''' ========='''\n",
        "np.save('run_DenseNet121_specificity',run_DenseNet121_specificity)\n",
        "np.save('run_MobileNetV2_specificity',run_MobileNetV2_specificity)\n",
        "np.save('run_InceptionV3_specificity',run_InceptionV3_specificity)\n",
        "np.save('run_VGG16_specificity',run_VGG16_specificity)\n",
        "\n",
        "np.save('run_majority_specificity',run_majority_specificity)\n",
        "np.save('run_sum_specificity',run_sum_specificity)\n",
        "np.save('run_prod_specificity',run_prod_specificity)\n",
        "#%%\n",
        "\n",
        "\n"
      ],
      "execution_count": null,
      "outputs": []
    },
    {
      "cell_type": "code",
      "metadata": {
        "id": "MyXOVPOXM2zf"
      },
      "source": [
        "!zip -r /content/saved_model_h5.zip /content/saved_model_h5\n",
        "#https://stackoverflow.com/questions/50453428/how-do-i-download-multiple-files-or-an-entire-folder-from-google-colab\n",
        "#Than I have downloded that zip file:\n",
        "#!zip -r \"/content/drive/My Drive/Getting started.zip\"\n",
        "# from google.colab import files?\n",
        "#files.download(\"/content/models_10runs.zip\")\"\""
      ],
      "execution_count": null,
      "outputs": []
    },
    {
      "cell_type": "code",
      "metadata": {
        "id": "bx5n6CGCobei"
      },
      "source": [
        "#!zip -r \"/content/drive/My Drive/models_10runs.zip\""
      ],
      "execution_count": null,
      "outputs": []
    },
    {
      "cell_type": "code",
      "metadata": {
        "id": "Yft8VqUUSUZM"
      },
      "source": [
        "#files.download(\"/content/models_10runs.zip\")"
      ],
      "execution_count": null,
      "outputs": []
    },
    {
      "cell_type": "code",
      "metadata": {
        "id": "2khdmrmUTEXJ"
      },
      "source": [
        "# to delete a folder 1323123\n",
        "#''' !rm -rf saved_model_old''' #####"
      ],
      "execution_count": null,
      "outputs": []
    },
    {
      "cell_type": "code",
      "metadata": {
        "id": "JyybqlBfXSxB"
      },
      "source": [
        "!ls -al"
      ],
      "execution_count": null,
      "outputs": []
    },
    {
      "cell_type": "code",
      "metadata": {
        "id": "MNJq5aJhh9-5"
      },
      "source": [
        "#1123123123123122"
      ],
      "execution_count": null,
      "outputs": []
    }
  ]
}